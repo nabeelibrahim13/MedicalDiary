{
 "cells": [
  {
   "cell_type": "code",
   "execution_count": 2,
   "metadata": {},
   "outputs": [],
   "source": [
    "import PyPDF2 as pdf\n"
   ]
  },
  {
   "cell_type": "code",
   "execution_count": 8,
   "metadata": {},
   "outputs": [
    {
     "data": {
      "text/plain": [
       "str"
      ]
     },
     "execution_count": 8,
     "metadata": {},
     "output_type": "execute_result"
    }
   ],
   "source": [
    "f = open('report (7).pdf','rb')\n",
    "pdf_reader = pdf.PdfReader(f)\n",
    "pdf_reader.pages\n",
    "len(pdf_reader.pages)\n",
    "page_one = pdf_reader.pages[0]\n",
    "page_one_text = page_one.extract_text()\n",
    "type(page_one_text)"
   ]
  },
  {
   "cell_type": "code",
   "execution_count": 9,
   "metadata": {},
   "outputs": [
    {
     "data": {
      "text/plain": [
       "973"
      ]
     },
     "execution_count": 9,
     "metadata": {},
     "output_type": "execute_result"
    }
   ],
   "source": [
    "len(page_one_text)"
   ]
  },
  {
   "cell_type": "code",
   "execution_count": 10,
   "metadata": {},
   "outputs": [
    {
     "data": {
      "text/plain": [
       "'LOC: MS\\nCLINICAL INFORMATION/COMMENTSMR. No. 1911924630\\nlab No. 2009418372 Collection: 23-09-2020 11:06\\nName: MRS SAMINA PERVEN\\nGender: Female Age:41 Years\\nContact: 03363045424 CNIC/Passport:\\nRef. By: DR MEHNAZ MAHAR\\nStatus: 24785\\nThis is a computer generated report and does not require a signature. Op. \\nDate: 02/10/2020 03:10:02 PM\\nPage: 1Parasitology (Urine D/R)\\nTest NameCurrent \\nResultPrevious\\nResultUnit Normal Range\\nPhysical Examination\\n* Colour Yellow Yellow\\n* Appearance Hazy Clear\\n* Specific gravity 1.020 1.001 - 1.030\\n* Reaction pH 6.0 5.0 - 8.5\\nChemical Examination\\n* Protein Trace Negative\\n* Glucose Negative Negative\\n* Ketone bodies Negative Negative\\n* Bilrubin Negative Negative\\n* Urobilinogen Normal Normal\\n* Nitrite Negative Negative\\n* Blood Negative Negative\\n* Leucocytes esterase Negative Negative\\nMicroscopic Examination\\n* Pus cells 8 - 10 /hpf < or= 5\\n* RBCs 2 - 4 /hpf < or= 5\\n* Epithelial cells + + /hpf < or= 5\\n* Mucus Threads + + + /hpf None seen'"
      ]
     },
     "execution_count": 10,
     "metadata": {},
     "output_type": "execute_result"
    }
   ],
   "source": [
    "page_one_text"
   ]
  },
  {
   "cell_type": "code",
   "execution_count": 14,
   "metadata": {},
   "outputs": [],
   "source": [
    "from transformers import pipeline\n",
    "\n",
    "# Example string provided\n",
    "medical_report = page_one_text\n",
    "\n"
   ]
  },
  {
   "cell_type": "code",
   "execution_count": 15,
   "metadata": {},
   "outputs": [],
   "source": [
    "# Preprocessing the text to remove unnecessary information\n",
    "# Removing headers, contact info, ref info, and other non-relevant data\n",
    "cleaned_report = '\\n'.join(line for line in medical_report.split('\\n') if not any(\n",
    "    keyword in line for keyword in ['LOC:', 'CLINICAL INFORMATION', 'MR. No', 'lab No', 'Collection:', 'Name:', 'Contact:', 'CNIC', 'Ref. By:', 'Status:', 'Op.', 'Date:', 'Page:']))\n",
    "\n"
   ]
  },
  {
   "cell_type": "code",
   "execution_count": 26,
   "metadata": {},
   "outputs": [
    {
     "name": "stderr",
     "output_type": "stream",
     "text": [
      "All PyTorch model weights were used when initializing TFT5ForConditionalGeneration.\n",
      "\n",
      "All the weights of TFT5ForConditionalGeneration were initialized from the PyTorch model.\n",
      "If your task is similar to the task the model of the checkpoint was trained on, you can already use TFT5ForConditionalGeneration for predictions without further training.\n"
     ]
    },
    {
     "name": "stdout",
     "output_type": "stream",
     "text": [
      "Female Age:41 Years Test NameCurrent ResultPrevious ResultUnit Normal Range Physical Examination * Colour Yellow Yellow * Appearance Hazy Clear * Specific gravity 1.020 1.001 - 1.030 * Reaction pH 6.0 5.0 - 8.5 Chemical Examination * Protein Trace Negative * Glucose Negative * Ketone bodies Negative Negative * Bilrubin Negative * Urobilinogen Normal Normal * Nitrite Negative * Blood Negative * Leucocytes este\n"
     ]
    }
   ],
   "source": [
    "from transformers import TFAutoModelForSeq2SeqLM, AutoTokenizer\n",
    "\n",
    "# Assuming you have already cleaned your report text and stored in `cleaned_report` variable\n",
    "\n",
    "# Load the T5 Tokenizer and T5 Model for TensorFlow\n",
    "model_name = \"t5-small\"\n",
    "tokenizer = AutoTokenizer.from_pretrained(model_name)\n",
    "model = TFAutoModelForSeq2SeqLM.from_pretrained(model_name)\n",
    "\n",
    "# Prepare the text for the model\n",
    "# The T5 model expects a task prefix like \"summarize: \"\n",
    "input_text = \"summarize: \" + cleaned_report\n",
    "inputs = tokenizer(input_text, return_tensors=\"tf\", max_length=512, truncation=True)\n",
    "\n",
    "# Generate the summary\n",
    "summary_ids = model.generate(inputs[\"input_ids\"], max_length=150, min_length=40, length_penalty=2.0, num_beams=4, early_stopping=True)\n",
    "\n",
    "# Decode the generated tokens to get the summary\n",
    "summary = tokenizer.decode(summary_ids[0], skip_special_tokens=True)\n",
    "print(cleaned_report)\n",
    "\n"
   ]
  },
  {
   "cell_type": "code",
   "execution_count": 27,
   "metadata": {},
   "outputs": [
    {
     "name": "stdout",
     "output_type": "stream",
     "text": [
      "Female Age:41 Years Test NameCurrent ResultPrevious ResultUnit Normal Range Physical Examination * Colour Yellow Yellow * Appearance Hazy Clear * Specific gravity 1.020 1.001 - 1.030 * Reaction pH 6.0 5.0 - 8.5 Chemical Examination * Protein Trace Negative * Glucose Negative * Ketone bodies Negative Negative * Bilrubin Negative * Urobilinogen Normal Normal * Nitrite Negative * Blood Negative * Leucocytes este\n"
     ]
    }
   ],
   "source": [
    "print(summary)"
   ]
  },
  {
   "cell_type": "code",
   "execution_count": 28,
   "metadata": {},
   "outputs": [
    {
     "name": "stdout",
     "output_type": "stream",
     "text": [
      "Gender: Female Age:41 Years\n",
      "Test NameCurrent \n",
      "ResultPrevious\n",
      "ResultUnit Normal Range\n",
      "Physical Examination\n",
      "* Colour Yellow Yellow\n",
      "* Appearance Hazy Clear\n",
      "* Specific gravity 1.020 1.001 - 1.030\n",
      "* Reaction pH 6.0 5.0 - 8.5\n",
      "Chemical Examination\n",
      "* Protein Trace Negative\n",
      "* Glucose Negative Negative\n",
      "* Ketone bodies Negative Negative\n",
      "* Bilrubin Negative Negative\n",
      "* Urobilinogen Normal Normal\n",
      "* Nitrite Negative Negative\n",
      "* Blood Negative Negative\n",
      "* Leucocytes esterase Negative Negative\n",
      "Microscopic Examination\n",
      "* Pus cells 8 - 10 /hpf < or= 5\n",
      "* RBCs 2 - 4 /hpf < or= 5\n",
      "* Epithelial cells + + /hpf < or= 5\n",
      "* Mucus Threads + + + /hpf None seen\n"
     ]
    }
   ],
   "source": [
    "print(cleaned_report)"
   ]
  },
  {
   "cell_type": "markdown",
   "metadata": {},
   "source": [
    "Image to String"
   ]
  },
  {
   "cell_type": "code",
   "execution_count": 1,
   "metadata": {},
   "outputs": [],
   "source": [
    "import matplotlib.pyplot as plt\n",
    "import cv2\n",
    "import easyocr\n",
    "from pylab import rcParams\n",
    "from IPython.display import Image\n"
   ]
  },
  {
   "cell_type": "code",
   "execution_count": 3,
   "metadata": {},
   "outputs": [
    {
     "name": "stderr",
     "output_type": "stream",
     "text": [
      "Neither CUDA nor MPS are available - defaulting to CPU. Note: This module is much faster with a GPU.\n"
     ]
    }
   ],
   "source": [
    "rcParams['figure.figsize'] = 8, 16\n",
    "\n",
    "reader = easyocr.Reader(['en']) #executing pretrained model\n"
   ]
  },
  {
   "cell_type": "code",
   "execution_count": 4,
   "metadata": {},
   "outputs": [],
   "source": [
    "Image('report (7)_page-0001.jpg') #getting image from root path folder\n",
    "\n",
    "output = reader.readtext('report (7)_page-0001.jpg')"
   ]
  },
  {
   "cell_type": "code",
   "execution_count": 66,
   "metadata": {},
   "outputs": [
    {
     "data": {
      "text/plain": [
       "[([[884, 64], [1068, 64], [1068, 88], [884, 88]],\n",
       "  'MR: No. 1911924630',\n",
       "  0.6541579900461255),\n",
       " ([[54, 82], [108, 82], [108, 132], [54, 132]], 'SA', 0.4583361401315919),\n",
       " ([[131, 97], [475, 97], [475, 139], [131, 139]],\n",
       "  'Dr: Essa Laboratory',\n",
       "  0.8357492960539957),\n",
       " ([[724, 96], [796, 96], [796, 120], [724, 120]],\n",
       "  'Iab No.',\n",
       "  0.6350659086947092),\n",
       " ([[814, 96], [924, 96], [924, 120], [814, 120]],\n",
       "  '2009418372',\n",
       "  0.6874401457202922),\n",
       " ([[952, 96], [1054, 96], [1054, 120], [952, 120]],\n",
       "  'Collection:',\n",
       "  0.9999159271059341),\n",
       " ([[1065, 99], [1205, 99], [1205, 119], [1065, 119]],\n",
       "  '23-09-2020 11.06',\n",
       "  0.9663948244913595),\n",
       " ([[134, 134], [342, 134], [342, 162], [134, 162]],\n",
       "  '& Didgn o stic',\n",
       "  0.4929542019446064),\n",
       " ([[354, 134], [468, 134], [468, 158], [354, 158]],\n",
       "  'C e ntre',\n",
       "  0.7667801464363546),\n",
       " ([[727, 129], [789, 129], [789, 149], [727, 149]],\n",
       "  'Name:',\n",
       "  0.9924974828107523),\n",
       " ([[817, 129], [1021, 129], [1021, 149], [817, 149]],\n",
       "  'MRS SAMINA PERVEN',\n",
       "  0.9997212183919376),\n",
       " ([[129, 163], [465, 163], [465, 179], [129, 179]],\n",
       "  'ISO 9001:2015 (MC) QMS Cerlilied Orqanizalion',\n",
       "  0.4835544637144246),\n",
       " ([[726, 158], [804, 158], [804, 182], [726, 182]],\n",
       "  'Gender:',\n",
       "  0.9999574209592083),\n",
       " ([[815, 161], [881, 161], [881, 181], [815, 181]],\n",
       "  'Female',\n",
       "  0.9999963013073241),\n",
       " ([[1008, 160], [1054, 160], [1054, 186], [1008, 186]],\n",
       "  'Age:',\n",
       "  0.9999569654464722),\n",
       " ([[1065, 161], [1145, 161], [1145, 181], [1065, 181]],\n",
       "  '41 Years',\n",
       "  0.8354457668213816),\n",
       " ([[402, 174], [486, 174], [486, 198], [402, 198]],\n",
       "  'LOc: MS',\n",
       "  0.7177961076046723),\n",
       " ([[727, 193], [797, 193], [797, 213], [727, 213]],\n",
       "  'Contact:',\n",
       "  0.6889131585334627),\n",
       " ([[815, 193], [915, 193], [915, 213], [815, 213]],\n",
       "  '03363045424',\n",
       "  0.6112531735481853),\n",
       " ([[933, 190], [1054, 190], [1054, 216], [933, 216]],\n",
       "  'CNICIPassport:',\n",
       "  0.7967764849634191),\n",
       " ([[405, 213], [661, 213], [661, 229], [405, 229]],\n",
       "  'CLINICAL INFORMA TIONICOMMENTS',\n",
       "  0.8992101308804106),\n",
       " ([[726, 222], [804, 222], [804, 248], [726, 248]],\n",
       "  'Ref. By:',\n",
       "  0.6763072998946246),\n",
       " ([[814, 222], [1004, 222], [1004, 246], [814, 246]],\n",
       "  'DR MEHNAZ MAHAR',\n",
       "  0.8142724893121256),\n",
       " ([[726, 254], [796, 254], [796, 278], [726, 278]],\n",
       "  'Status:',\n",
       "  0.9975172716019024),\n",
       " ([[814, 254], [872, 254], [872, 278], [814, 278]],\n",
       "  '24785',\n",
       "  0.9999988271355889),\n",
       " ([[83, 356], [332, 356], [332, 389], [83, 389]],\n",
       "  'Parasitology (Urine DIR)',\n",
       "  0.984349813832756),\n",
       " ([[348, 418], [430, 418], [430, 442], [348, 442]],\n",
       "  'Current',\n",
       "  0.9999918897516467),\n",
       " ([[86, 430], [194, 430], [194, 454], [86, 454]],\n",
       "  'Test Name',\n",
       "  0.7306389035392873),\n",
       " ([[532, 430], [624, 430], [624, 454], [532, 454]],\n",
       "  'Previous',\n",
       "  0.9572248061901512),\n",
       " ([[732, 430], [778, 430], [778, 454], [732, 454]],\n",
       "  'Unit',\n",
       "  0.9999902844429016),\n",
       " ([[928, 428], [1073, 428], [1073, 459], [928, 459]],\n",
       "  'Normal Range',\n",
       "  0.713520046990644),\n",
       " ([[356, 444], [426, 444], [426, 468], [356, 468]],\n",
       "  'Result',\n",
       "  0.9999973233148183),\n",
       " ([[545, 459], [613, 459], [613, 479], [545, 479]],\n",
       "  'Result',\n",
       "  0.999997809984971),\n",
       " ([[84, 492], [282, 492], [282, 518], [84, 518]],\n",
       "  'Physical Examination',\n",
       "  0.7454582887121906),\n",
       " ([[98, 518], [164, 518], [164, 542], [98, 542]],\n",
       "  'Colour',\n",
       "  0.9999231541612914),\n",
       " ([[316, 518], [384, 518], [384, 542], [316, 542]],\n",
       "  'Yellow',\n",
       "  0.9999571241764041),\n",
       " ([[808, 518], [876, 518], [876, 542], [808, 542]],\n",
       "  'Yellow',\n",
       "  0.9999535227830813),\n",
       " ([[97, 541], [212, 541], [212, 571], [97, 571]],\n",
       "  'Appearance',\n",
       "  0.9999956648064969),\n",
       " ([[810, 542], [866, 542], [866, 566], [810, 566]],\n",
       "  'Clear',\n",
       "  0.9999863521131679),\n",
       " ([[96, 568], [240, 568], [240, 596], [96, 596]],\n",
       "  'Specific gravity',\n",
       "  0.9840591287560682),\n",
       " ([[320, 568], [374, 568], [374, 592], [320, 592]],\n",
       "  '1.020',\n",
       "  0.4472044574849615),\n",
       " ([[810, 568], [866, 568], [866, 592], [810, 592]],\n",
       "  '1.001',\n",
       "  0.9007326465521797),\n",
       " ([[882, 568], [936, 568], [936, 592], [882, 592]],\n",
       "  '1.030',\n",
       "  0.9999718512093189),\n",
       " ([[98, 594], [214, 594], [214, 618], [98, 618]],\n",
       "  'Reaction pH',\n",
       "  0.9952759036114659),\n",
       " ([[321, 597], [351, 597], [351, 615], [321, 615]], '6.0', 0.9377866737737663),\n",
       " ([[809, 595], [847, 595], [847, 615], [809, 615]], '5.0', 0.9998964183180508),\n",
       " ([[856, 594], [890, 594], [890, 618], [856, 618]], '8.5', 0.9999187863336527),\n",
       " ([[84, 620], [288, 620], [288, 640], [84, 640]],\n",
       "  'Chemical Examination',\n",
       "  0.8976919445957168),\n",
       " ([[98, 644], [168, 644], [168, 668], [98, 668]],\n",
       "  'Protein',\n",
       "  0.9998310321046143),\n",
       " ([[318, 644], [376, 644], [376, 668], [318, 668]],\n",
       "  'Trace',\n",
       "  0.9999874183551184),\n",
       " ([[809, 643], [896, 643], [896, 673], [809, 673]],\n",
       "  'Negative',\n",
       "  0.9996708360628397),\n",
       " ([[98, 670], [178, 670], [178, 694], [98, 694]],\n",
       "  'Glucose',\n",
       "  0.7421044371068715),\n",
       " ([[318, 670], [404, 670], [404, 696], [318, 696]],\n",
       "  'Negative',\n",
       "  0.7414156167313013),\n",
       " ([[846, 670], [896, 670], [896, 694], [846, 694]],\n",
       "  'jative',\n",
       "  0.8565509886227416),\n",
       " ([[98, 694], [234, 694], [234, 720], [98, 720]],\n",
       "  'Ketone bodies',\n",
       "  0.9999354268573073),\n",
       " ([[318, 696], [404, 696], [404, 722], [318, 722]],\n",
       "  'Negative',\n",
       "  0.7105537236390469),\n",
       " ([[810, 696], [896, 696], [896, 722], [810, 722]],\n",
       "  'Negative',\n",
       "  0.6972129777939489),\n",
       " ([[98, 720], [170, 720], [170, 744], [98, 744]],\n",
       "  'Bilrubin',\n",
       "  0.9998877603332803),\n",
       " ([[317, 719], [404, 719], [404, 749], [317, 749]],\n",
       "  'Negative',\n",
       "  0.9995578436023136),\n",
       " ([[810, 722], [896, 722], [896, 746], [810, 746]],\n",
       "  'Negative',\n",
       "  0.8890721550184405),\n",
       " ([[97, 743], [218, 743], [218, 775], [97, 775]],\n",
       "  'Urobilinogen',\n",
       "  0.9999074953751423),\n",
       " ([[318, 746], [390, 746], [390, 770], [318, 770]],\n",
       "  'Normal',\n",
       "  0.999907921104668),\n",
       " ([[810, 746], [882, 746], [882, 770], [810, 770]],\n",
       "  'Normal',\n",
       "  0.9999080184406587),\n",
       " ([[98, 772], [156, 772], [156, 796], [98, 796]],\n",
       "  'Nitrite',\n",
       "  0.9999979724399027),\n",
       " ([[318, 772], [404, 772], [404, 798], [318, 798]],\n",
       "  'Negative',\n",
       "  0.6963334831215334),\n",
       " ([[810, 772], [896, 772], [896, 798], [810, 798]],\n",
       "  'Negative',\n",
       "  0.7298014492690414),\n",
       " ([[98, 798], [156, 798], [156, 822], [98, 822]], 'Blood', 0.9999537250446036),\n",
       " ([[318, 798], [404, 798], [404, 824], [318, 824]],\n",
       "  'Negative',\n",
       "  0.7280352336582852),\n",
       " ([[810, 798], [896, 798], [896, 824], [810, 824]],\n",
       "  'Negative',\n",
       "  0.6616012057870315),\n",
       " ([[96, 824], [290, 824], [290, 850], [96, 850]],\n",
       "  'Leucocytes esterase',\n",
       "  0.9916909576527766),\n",
       " ([[317, 821], [404, 821], [404, 851], [317, 851]],\n",
       "  'Negative',\n",
       "  0.9994752115870845),\n",
       " ([[847, 825], [895, 825], [895, 845], [847, 845]], 'ative', 1.0),\n",
       " ([[84, 848], [316, 848], [316, 874], [84, 874]],\n",
       "  'Microscopic Examination',\n",
       "  0.9984454800983472),\n",
       " ([[98, 874], [184, 874], [184, 898], [98, 898]],\n",
       "  'Pus cells',\n",
       "  0.9998945574567212),\n",
       " ([[348, 872], [376, 872], [376, 896], [348, 896]], '10', 0.9706867128536012),\n",
       " ([[690, 874], [734, 874], [734, 900], [690, 900]],\n",
       "  'Ihpf',\n",
       "  0.9797822833061218),\n",
       " ([[829, 877], [879, 877], [879, 897], [829, 897]],\n",
       "  'or= 5',\n",
       "  0.9503976052497672),\n",
       " ([[98, 898], [156, 898], [156, 922], [98, 922]], 'RBCs', 0.9998979568481445),\n",
       " ([[317, 899], [337, 899], [337, 921], [317, 921]], '2', 1.0),\n",
       " ([[690, 898], [734, 898], [734, 924], [690, 924]],\n",
       "  'Ihpf',\n",
       "  0.9850836396217346),\n",
       " ([[813, 901], [879, 901], [879, 921], [813, 921]],\n",
       "  '< Or= 5',\n",
       "  0.7040094469160265),\n",
       " ([[98, 924], [232, 924], [232, 950], [98, 950]],\n",
       "  'Epithelial cells',\n",
       "  0.9876210446870468),\n",
       " ([[690, 924], [734, 924], [734, 950], [690, 950]],\n",
       "  'Ihpf',\n",
       "  0.9848703145980835),\n",
       " ([[827, 927], [879, 927], [879, 947], [827, 947]],\n",
       "  'or= 5',\n",
       "  0.9788376952688701),\n",
       " ([[98, 948], [244, 948], [244, 974], [98, 974]],\n",
       "  'Mucus Threads',\n",
       "  0.9999098325955504),\n",
       " ([[319, 955], [369, 955], [369, 971], [319, 971]],\n",
       "  '+ + +',\n",
       "  0.8234070861462559),\n",
       " ([[690, 950], [734, 950], [734, 976], [690, 976]],\n",
       "  'Ihpf',\n",
       "  0.9785520434379578),\n",
       " ([[810, 950], [914, 950], [914, 974], [810, 974]],\n",
       "  'None seen',\n",
       "  0.9850666525037746),\n",
       " ([[6, 1442], [586, 1442], [586, 1470], [6, 1470]],\n",
       "  'This is a computer generated report and does not require a signature_',\n",
       "  0.795554273043972),\n",
       " ([[1164, 1444], [1196, 1444], [1196, 1468], [1164, 1468]],\n",
       "  'Op.',\n",
       "  0.9162993352366834),\n",
       " ([[944, 1467], [1204, 1467], [1204, 1492], [944, 1492]],\n",
       "  'Date: 02/10/2020 03:10.02 PM',\n",
       "  0.7645889536535101),\n",
       " ([[1132, 1492], [1191, 1492], [1191, 1522], [1132, 1522]],\n",
       "  'Page:',\n",
       "  0.9979037786412487),\n",
       " ([[318.95805693252925, 539.1867537178289],\n",
       "   [371.8824707735427, 547.1685180460935],\n",
       "   [368.04194306747075, 571.8132462821711],\n",
       "   [314.1175292264573, 563.8314819539065]],\n",
       "  'Hazy',\n",
       "  0.9999719858169556),\n",
       " ([[810.8461538461538, 667.2307692307693],\n",
       "   [853.7712263407149, 672.8509549318987],\n",
       "   [850.1538461538462, 696.7692307692307],\n",
       "   [807.2287736592851, 692.1490450681013]],\n",
       "  'Neg:',\n",
       "  0.5139668275828536),\n",
       " ([[810.9580569325292, 819.1867537178289],\n",
       "   [854.8326005443373, 827.0118835310451],\n",
       "   [850.0419430674708, 851.8132462821711],\n",
       "   [806.1673994556627, 843.9881164689549]],\n",
       "  'Negz',\n",
       "  0.9680201411247253)]"
      ]
     },
     "execution_count": 66,
     "metadata": {},
     "output_type": "execute_result"
    }
   ],
   "source": [
    "output"
   ]
  },
  {
   "cell_type": "code",
   "execution_count": 69,
   "metadata": {},
   "outputs": [
    {
     "data": {
      "text/plain": [
       "'MR: No. 1911924630 SA Dr: Essa Laboratory Iab No. 2009418372 Collection: 23-09-2020 11.06 & Didgn o stic C e ntre Name: MRS SAMINA PERVEN ISO 9001:2015 (MC) QMS Cerlilied Orqanizalion Gender: Female Age: 41 Years LOc: MS Contact: 03363045424 CNICIPassport: CLINICAL INFORMA TIONICOMMENTS Ref. By: DR MEHNAZ MAHAR Status: 24785 Parasitology (Urine DIR) Current Test Name Previous Unit Normal Range Result Result Physical Examination Colour Yellow Yellow Appearance Clear Specific gravity 1.020 1.001 1.030 Reaction pH 6.0 5.0 8.5 Chemical Examination Protein Trace Negative Glucose Negative jative Ketone bodies Negative Negative Bilrubin Negative Negative Urobilinogen Normal Normal Nitrite Negative Negative Blood Negative Negative Leucocytes esterase Negative ative Microscopic Examination Pus cells 10 Ihpf or= 5 RBCs 2 Ihpf < Or= 5 Epithelial cells Ihpf or= 5 Mucus Threads + + + Ihpf None seen This is a computer generated report and does not require a signature_ Op. Date: 02/10/2020 03:10.02 PM Page: Hazy Neg: Negz '"
      ]
     },
     "execution_count": 69,
     "metadata": {},
     "output_type": "execute_result"
    }
   ],
   "source": [
    "new=''\n",
    "total_len = len(output)\n",
    "for x in range(total_len):\n",
    "    new += output[x][1]+' '\n",
    "    #print(output[x][1])\n",
    "new"
   ]
  },
  {
   "cell_type": "markdown",
   "metadata": {},
   "source": [
    "Summarizer"
   ]
  },
  {
   "cell_type": "code",
   "execution_count": 27,
   "metadata": {},
   "outputs": [
    {
     "name": "stderr",
     "output_type": "stream",
     "text": [
      "All PyTorch model weights were used when initializing TFT5ForConditionalGeneration.\n",
      "\n",
      "All the weights of TFT5ForConditionalGeneration were initialized from the PyTorch model.\n",
      "If your task is similar to the task the model of the checkpoint was trained on, you can already use TFT5ForConditionalGeneration for predictions without further training.\n"
     ]
    }
   ],
   "source": [
    "from transformers import TFAutoModelForSeq2SeqLM, AutoTokenizer\n",
    "\n",
    "# Assuming you have already cleaned your report text and stored in `cleaned_report` variable\n",
    "\n",
    "# Load the T5 Tokenizer and T5 Model for TensorFlow\n",
    "model_name = \"t5-small\"\n",
    "tokenizer = AutoTokenizer.from_pretrained(model_name)\n",
    "model = TFAutoModelForSeq2SeqLM.from_pretrained(model_name)"
   ]
  },
  {
   "cell_type": "code",
   "execution_count": 31,
   "metadata": {},
   "outputs": [
    {
     "name": "stdout",
     "output_type": "stream",
     "text": [
      "MRS SAMINA PERVEN ISO 9001:2015 (MC) QMS Cerlilied Orqanizalion Gender: Female Age: 41 Years LOc: MS Contact: 03363045424 CNICIPassport: CLINICAL INFORMA TIONICOMMENTS Ref.\n"
     ]
    }
   ],
   "source": [
    "input_text = \"summarize: \" + new\n",
    "inputs = tokenizer(input_text, return_tensors=\"tf\", max_length=1000, truncation=True)\n",
    "\n",
    "# Generate the summary\n",
    "summary_ids = model.generate(inputs[\"input_ids\"], max_length=1000, min_length=40, length_penalty=1.0, num_beams=4, early_stopping=True)\n",
    "\n",
    "# Decode the generated tokens to get the summary\n",
    "summary = tokenizer.decode(summary_ids[0], skip_special_tokens=True)\n",
    "print(summary)"
   ]
  },
  {
   "cell_type": "markdown",
   "metadata": {},
   "source": [
    "GPT Summary"
   ]
  },
  {
   "cell_type": "code",
   "execution_count": 36,
   "metadata": {},
   "outputs": [],
   "source": [
    "import g4f\n",
    "\n",
    "g4f.debug.logging = True  # Enable logging\n",
    "g4f.check_version = False  # Disable automatic version checking"
   ]
  },
  {
   "cell_type": "code",
   "execution_count": 40,
   "metadata": {},
   "outputs": [
    {
     "name": "stdout",
     "output_type": "stream",
     "text": [
      "Using RetryProvider provider\n",
      "Using GeekGpt provider\n",
      "GeekGpt: HTTPError: 403 Client Error: Forbidden for url: https://ai.fakeopen.com/v1/chat/completions\n",
      "Using Phind provider\n",
      "Phind: RuntimeError: HTTP Error 400: \n",
      "Using Bing provider\n",
      "[1]: https://www.healthline.com/health/normal-urine-test-results-chart \"\"\n",
      "[2]: https://www.mayoclinic.org/tests-procedures/urinalysis/about/pac-20384907 \"\"\n",
      "[3]: https://www.medicinenet.com/urinalysis/article.htm \"\"\n",
      "[4]: https://www.kidney.org/atoz/content/what-urinalysis \"\"\n",
      "\n",
      "Hello, this is Bing. I can help you interpret your urine test results. Here is a summary of what I found:\n",
      "\n",
      "- Your urine color, appearance, specific gravity, and pH are all within the normal range, which indicates that you are well hydrated and have no signs of infection or kidney problems[^1^][1].\n",
      "- Your urine protein is slightly elevated, which could be due to various factors, such as dehydration, fever, stress, or exercise[^2^][2]. It could also be a sign of kidney damage or disease, especially if you have other symptoms, such as swelling, fatigue, or high blood pressure[^2^][2]. You may need to repeat the test or do further tests to confirm the cause of proteinuria[^2^][2].\n",
      "- Your urine glucose, ketone bodies, bilirubin, urobilinogen, nitrite, blood, and leucocytes esterase are all negative, which means that you have no signs of diabetes, liver disease, urinary tract infection, or bleeding in the urinary system[^1^][1] [^2^][2].\n",
      "- Your urine microscopic examination shows that you have a moderate amount of pus cells, which are white blood cells that fight infection[^3^][3]. This could indicate that you have a mild urinary tract infection or inflammation, especially if you have symptoms such as burning, urgency, or frequency of urination[^3^][3]. You may need to take antibiotics or anti-inflammatory drugs to treat the infection[^3^][3].\n",
      "- Your urine microscopic examination also shows that you have a low amount of red blood cells, epithelial cells, and mucus threads, which are normal components of urine and do not indicate any serious problem[^1^][1] [^3^][3].\n",
      "\n",
      "I hope this helps you understand your urine test results better. If you have any questions or concerns, please consult your doctor for further advice. Thank you for using Bing. 😊\n"
     ]
    }
   ],
   "source": [
    "# Streamed completion\n",
    "\n",
    "# from g4f.Provider import (\n",
    "#     Bing\n",
    "# )\n",
    "# response = g4f.ChatCompletion.create(\n",
    "#     model=\"gpt-3.5-turbo\",\n",
    "#     messages=[{\"role\": \"user\", \"content\": \"Hello\"}],\n",
    "#     stream=True,\n",
    "# )\n",
    "\n",
    "# for message in response:\n",
    "#     print(message, flush=True, end='')\n",
    "\n",
    "# Normal response\n",
    "response = g4f.ChatCompletion.create(\n",
    "    model=g4f.models.gpt_4,\n",
    "    #provider=g4f.Provider.Aichat,\n",
    "    messages=[{\"role\": \"user\", \"content\": new}],\n",
    ")  # Alternative model setting\n",
    "\n",
    "print(response)"
   ]
  },
  {
   "cell_type": "code",
   "execution_count": 65,
   "metadata": {},
   "outputs": [
    {
     "data": {
      "text/plain": [
       "'[1]: https://www.healthline.com/health/normal-urine-test-results-chart \"\"\\n[2]: https://www.mayoclinic.org/tests-procedures/urinalysis/about/pac-20384907 \"\"\\n[3]: https://www.medicinenet.com/urinalysis/article.htm \"\"\\n[4]: https://www.kidney.org/atoz/content/what-urinalysis \"\"\\n\\nHello, this is Bing. I can help you interpret your urine test results. Here is a summary of what I found:\\n\\n- Your urine color, appearance, specific gravity, and pH are all within the normal range, which indicates that you are well hydrated and have no signs of infection or kidney problems[^1^][1].\\n- Your urine protein is slightly elevated, which could be due to various factors, such as dehydration, fever, stress, or exercise[^2^][2]. It could also be a sign of kidney damage or disease, especially if you have other symptoms, such as swelling, fatigue, or high blood pressure[^2^][2]. You may need to repeat the test or do further tests to confirm the cause of proteinuria[^2^][2].\\n- Your urine glucose, ketone bodies, bilirubin, urobilinogen, nitrite, blood, and leucocytes esterase are all negative, which means that you have no signs of diabetes, liver disease, urinary tract infection, or bleeding in the urinary system[^1^][1] [^2^][2].\\n- Your urine microscopic examination shows that you have a moderate amount of pus cells, which are white blood cells that fight infection[^3^][3]. This could indicate that you have a mild urinary tract infection or inflammation, especially if you have symptoms such as burning, urgency, or frequency of urination[^3^][3]. You may need to take antibiotics or anti-inflammatory drugs to treat the infection[^3^][3].\\n- Your urine microscopic examination also shows that you have a low amount of red blood cells, epithelial cells, and mucus threads, which are normal components of urine and do not indicate any serious problem[^1^][1] [^3^][3].\\n\\nI hope this helps you understand your urine test results better. If you have any questions or concerns, please consult your doctor for further advice. Thank you for using Bing. 😊'"
      ]
     },
     "execution_count": 65,
     "metadata": {},
     "output_type": "execute_result"
    }
   ],
   "source": [
    "#split response string where \"Using Bing provider\"\n",
    "split_response = response.split(\"Using Bing provider\")\n",
    "#split_response[1]\n",
    "#converte split_response[0] to string\n",
    "a = str(split_response[0])\n",
    "a"
   ]
  },
  {
   "cell_type": "code",
   "execution_count": null,
   "metadata": {},
   "outputs": [],
   "source": []
  }
 ],
 "metadata": {
  "kernelspec": {
   "display_name": "Python 3",
   "language": "python",
   "name": "python3"
  },
  "language_info": {
   "codemirror_mode": {
    "name": "ipython",
    "version": 3
   },
   "file_extension": ".py",
   "mimetype": "text/x-python",
   "name": "python",
   "nbconvert_exporter": "python",
   "pygments_lexer": "ipython3",
   "version": "3.10.0"
  }
 },
 "nbformat": 4,
 "nbformat_minor": 2
}
